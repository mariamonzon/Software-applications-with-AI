{
 "nbformat": 4,
 "nbformat_minor": 0,
 "metadata": {
  "colab": {
   "name": "ner_3_2021.ipynb",
   "provenance": [],
   "collapsed_sections": []
  },
  "kernelspec": {
   "display_name": "Python 3",
   "language": "python",
   "name": "python3"
  },
  "language_info": {
   "codemirror_mode": {
    "name": "ipython",
    "version": 3
   },
   "file_extension": ".py",
   "mimetype": "text/x-python",
   "name": "python",
   "nbconvert_exporter": "python",
   "pygments_lexer": "ipython3",
   "version": "3.8.5"
  }
 },
 "cells": [
  {
   "cell_type": "markdown",
   "metadata": {
    "id": "j4CyQGFg4haX"
   },
   "source": [
    "Flair"
   ]
  },
  {
   "cell_type": "code",
   "metadata": {
    "colab": {
     "base_uri": "https://localhost:8080/"
    },
    "id": "zRxrYeEV4gVL",
    "outputId": "b11b0731-501c-4792-bde9-8e498b30316f"
   },
   "source": [
    "from google.colab import drive\n",
    "drive.mount('/content/gdrive')"
   ],
   "execution_count": 1,
   "outputs": [
    {
     "output_type": "stream",
     "text": [
      "Mounted at /content/gdrive\n"
     ],
     "name": "stdout"
    }
   ]
  },
  {
   "cell_type": "code",
   "metadata": {
    "id": "j6Toer0O450W"
   },
   "source": [
    "import os"
   ],
   "execution_count": 2,
   "outputs": []
  },
  {
   "cell_type": "code",
   "metadata": {
    "id": "fH08d9VJ5Ife"
   },
   "source": [
    "os.chdir( \"/content/gdrive/MyDrive/flair\" ) "
   ],
   "execution_count": 3,
   "outputs": []
  },
  {
   "cell_type": "code",
   "metadata": {
    "colab": {
     "base_uri": "https://localhost:8080/"
    },
    "id": "ug6zYGQ85KbW",
    "outputId": "39be486b-8668-43f3-86a5-0eee983fcbba",
    "pycharm": {
     "name": "#%%\n"
    }
   },
   "source": [
    "pip install flair"
   ],
   "execution_count": 4,
   "outputs": [
    {
     "output_type": "stream",
     "text": [
      "Collecting flair\n",
      "\u001B[?25l  Downloading https://files.pythonhosted.org/packages/f0/3a/1b46a0220d6176b22bcb9336619d1731301bc2c75fa926a9ef953e6e4d58/flair-0.8.0.post1-py3-none-any.whl (284kB)\n",
      "\r\u001B[K     |█▏                              | 10kB 13.5MB/s eta 0:00:01\r\u001B[K     |██▎                             | 20kB 18.9MB/s eta 0:00:01\r\u001B[K     |███▌                            | 30kB 22.6MB/s eta 0:00:01\r\u001B[K     |████▋                           | 40kB 25.7MB/s eta 0:00:01\r\u001B[K     |█████▊                          | 51kB 27.2MB/s eta 0:00:01\r\u001B[K     |███████                         | 61kB 30.1MB/s eta 0:00:01\r\u001B[K     |████████                        | 71kB 27.7MB/s eta 0:00:01\r\u001B[K     |█████████▏                      | 81kB 28.1MB/s eta 0:00:01\r\u001B[K     |██████████▍                     | 92kB 29.6MB/s eta 0:00:01\r\u001B[K     |███████████▌                    | 102kB 29.3MB/s eta 0:00:01\r\u001B[K     |████████████▋                   | 112kB 29.3MB/s eta 0:00:01\r\u001B[K     |█████████████▉                  | 122kB 29.3MB/s eta 0:00:01\r\u001B[K     |███████████████                 | 133kB 29.3MB/s eta 0:00:01\r\u001B[K     |████████████████                | 143kB 29.3MB/s eta 0:00:01\r\u001B[K     |█████████████████▎              | 153kB 29.3MB/s eta 0:00:01\r\u001B[K     |██████████████████▍             | 163kB 29.3MB/s eta 0:00:01\r\u001B[K     |███████████████████▋            | 174kB 29.3MB/s eta 0:00:01\r\u001B[K     |████████████████████▊           | 184kB 29.3MB/s eta 0:00:01\r\u001B[K     |█████████████████████▉          | 194kB 29.3MB/s eta 0:00:01\r\u001B[K     |███████████████████████         | 204kB 29.3MB/s eta 0:00:01\r\u001B[K     |████████████████████████▏       | 215kB 29.3MB/s eta 0:00:01\r\u001B[K     |█████████████████████████▎      | 225kB 29.3MB/s eta 0:00:01\r\u001B[K     |██████████████████████████▌     | 235kB 29.3MB/s eta 0:00:01\r\u001B[K     |███████████████████████████▋    | 245kB 29.3MB/s eta 0:00:01\r\u001B[K     |████████████████████████████▊   | 256kB 29.3MB/s eta 0:00:01\r\u001B[K     |██████████████████████████████  | 266kB 29.3MB/s eta 0:00:01\r\u001B[K     |███████████████████████████████ | 276kB 29.3MB/s eta 0:00:01\r\u001B[K     |████████████████████████████████| 286kB 29.3MB/s \n",
      "\u001B[?25hRequirement already satisfied: hyperopt>=0.1.1 in /usr/local/lib/python3.7/dist-packages (from flair) (0.1.2)\n",
      "Collecting sqlitedict>=1.6.0\n",
      "  Downloading https://files.pythonhosted.org/packages/5c/2d/b1d99e9ad157dd7de9cd0d36a8a5876b13b55e4b75f7498bc96035fb4e96/sqlitedict-1.7.0.tar.gz\n",
      "Requirement already satisfied: scikit-learn>=0.21.3 in /usr/local/lib/python3.7/dist-packages (from flair) (0.22.2.post1)\n",
      "Collecting deprecated>=1.2.4\n",
      "  Downloading https://files.pythonhosted.org/packages/fb/73/994edfcba74443146c84b91921fcc269374354118d4f452fb0c54c1cbb12/Deprecated-1.2.12-py2.py3-none-any.whl\n",
      "Collecting janome\n",
      "\u001B[?25l  Downloading https://files.pythonhosted.org/packages/a8/63/98858cbead27df7536c7e300c169da0999e9704d02220dc6700b804eeff0/Janome-0.4.1-py2.py3-none-any.whl (19.7MB)\n",
      "\u001B[K     |████████████████████████████████| 19.7MB 1.4MB/s \n",
      "\u001B[?25hRequirement already satisfied: gensim<=3.8.3,>=3.4.0 in /usr/local/lib/python3.7/dist-packages (from flair) (3.6.0)\n",
      "Requirement already satisfied: regex in /usr/local/lib/python3.7/dist-packages (from flair) (2019.12.20)\n",
      "Requirement already satisfied: python-dateutil>=2.6.1 in /usr/local/lib/python3.7/dist-packages (from flair) (2.8.1)\n",
      "Collecting ftfy\n",
      "\u001B[?25l  Downloading https://files.pythonhosted.org/packages/af/da/d215a091986e5f01b80f5145cff6f22e2dc57c6b048aab2e882a07018473/ftfy-6.0.3.tar.gz (64kB)\n",
      "\u001B[K     |████████████████████████████████| 71kB 6.3MB/s \n",
      "\u001B[?25hRequirement already satisfied: tqdm>=4.26.0 in /usr/local/lib/python3.7/dist-packages (from flair) (4.41.1)\n",
      "Collecting gdown==3.12.2\n",
      "  Downloading https://files.pythonhosted.org/packages/50/21/92c3cfe56f5c0647145c4b0083d0733dd4890a057eb100a8eeddf949ffe9/gdown-3.12.2.tar.gz\n",
      "  Installing build dependencies ... \u001B[?25l\u001B[?25hdone\n",
      "  Getting requirements to build wheel ... \u001B[?25l\u001B[?25hdone\n",
      "    Preparing wheel metadata ... \u001B[?25l\u001B[?25hdone\n",
      "Collecting mpld3==0.3\n",
      "\u001B[?25l  Downloading https://files.pythonhosted.org/packages/91/95/a52d3a83d0a29ba0d6898f6727e9858fe7a43f6c2ce81a5fe7e05f0f4912/mpld3-0.3.tar.gz (788kB)\n",
      "\u001B[K     |████████████████████████████████| 798kB 35.7MB/s \n",
      "\u001B[?25hCollecting segtok>=1.5.7\n",
      "  Downloading https://files.pythonhosted.org/packages/41/08/582dab5f4b1d5ca23bc6927b4bb977c8ff7f3a87a3b98844ef833e2f5623/segtok-1.5.10.tar.gz\n",
      "Collecting bpemb>=0.3.2\n",
      "  Downloading https://files.pythonhosted.org/packages/f2/6f/9191b85109772636a8f8accb122900c34db26c091d2793218aa94954524c/bpemb-0.3.3-py3-none-any.whl\n",
      "Requirement already satisfied: tabulate in /usr/local/lib/python3.7/dist-packages (from flair) (0.8.9)\n",
      "Collecting konoha<5.0.0,>=4.0.0\n",
      "  Downloading https://files.pythonhosted.org/packages/71/70/48a0bd55f79c328504fe6fe7ae8ff651f77a2aadbb1911701385d9bb5ca3/konoha-4.6.5-py3-none-any.whl\n",
      "Collecting langdetect\n",
      "\u001B[?25l  Downloading https://files.pythonhosted.org/packages/0e/72/a3add0e4eec4eb9e2569554f7c70f4a3c27712f40e3284d483e88094cc0e/langdetect-1.0.9.tar.gz (981kB)\n",
      "\u001B[K     |████████████████████████████████| 983kB 32.4MB/s \n",
      "\u001B[?25hCollecting sentencepiece==0.1.95\n",
      "\u001B[?25l  Downloading https://files.pythonhosted.org/packages/f5/99/e0808cb947ba10f575839c43e8fafc9cc44e4a7a2c8f79c60db48220a577/sentencepiece-0.1.95-cp37-cp37m-manylinux2014_x86_64.whl (1.2MB)\n",
      "\u001B[K     |████████████████████████████████| 1.2MB 36.2MB/s \n",
      "\u001B[?25hRequirement already satisfied: matplotlib>=2.2.3 in /usr/local/lib/python3.7/dist-packages (from flair) (3.2.2)\n",
      "Collecting torch<=1.7.1,>=1.5.0\n",
      "\u001B[?25l  Downloading https://files.pythonhosted.org/packages/90/5d/095ddddc91c8a769a68c791c019c5793f9c4456a688ddd235d6670924ecb/torch-1.7.1-cp37-cp37m-manylinux1_x86_64.whl (776.8MB)\n",
      "\u001B[K     |████████████████████████████████| 776.8MB 22kB/s \n",
      "\u001B[?25hRequirement already satisfied: lxml in /usr/local/lib/python3.7/dist-packages (from flair) (4.2.6)\n",
      "Requirement already satisfied: numpy<1.20.0 in /usr/local/lib/python3.7/dist-packages (from flair) (1.19.5)\n",
      "Collecting huggingface-hub\n",
      "  Downloading https://files.pythonhosted.org/packages/32/a1/7c5261396da23ec364e296a4fb8a1cd6a5a2ff457215c6447038f18c0309/huggingface_hub-0.0.9-py3-none-any.whl\n",
      "Collecting transformers>=4.0.0\n",
      "\u001B[?25l  Downloading https://files.pythonhosted.org/packages/d5/43/cfe4ee779bbd6a678ac6a97c5a5cdeb03c35f9eaebbb9720b036680f9a2d/transformers-4.6.1-py3-none-any.whl (2.2MB)\n",
      "\u001B[K     |████████████████████████████████| 2.3MB 40.8MB/s \n",
      "\u001B[?25hRequirement already satisfied: future in /usr/local/lib/python3.7/dist-packages (from hyperopt>=0.1.1->flair) (0.16.0)\n",
      "Requirement already satisfied: scipy in /usr/local/lib/python3.7/dist-packages (from hyperopt>=0.1.1->flair) (1.4.1)\n",
      "Requirement already satisfied: six in /usr/local/lib/python3.7/dist-packages (from hyperopt>=0.1.1->flair) (1.15.0)\n",
      "Requirement already satisfied: networkx in /usr/local/lib/python3.7/dist-packages (from hyperopt>=0.1.1->flair) (2.5.1)\n",
      "Requirement already satisfied: pymongo in /usr/local/lib/python3.7/dist-packages (from hyperopt>=0.1.1->flair) (3.11.4)\n",
      "Requirement already satisfied: joblib>=0.11 in /usr/local/lib/python3.7/dist-packages (from scikit-learn>=0.21.3->flair) (1.0.1)\n",
      "Requirement already satisfied: wrapt<2,>=1.10 in /usr/local/lib/python3.7/dist-packages (from deprecated>=1.2.4->flair) (1.12.1)\n",
      "Requirement already satisfied: smart-open>=1.2.1 in /usr/local/lib/python3.7/dist-packages (from gensim<=3.8.3,>=3.4.0->flair) (5.0.0)\n",
      "Requirement already satisfied: wcwidth in /usr/local/lib/python3.7/dist-packages (from ftfy->flair) (0.2.5)\n",
      "Requirement already satisfied: requests[socks] in /usr/local/lib/python3.7/dist-packages (from gdown==3.12.2->flair) (2.23.0)\n",
      "Requirement already satisfied: filelock in /usr/local/lib/python3.7/dist-packages (from gdown==3.12.2->flair) (3.0.12)\n",
      "Collecting overrides<4.0.0,>=3.0.0\n",
      "  Downloading https://files.pythonhosted.org/packages/ff/b1/10f69c00947518e6676bbd43e739733048de64b8dd998e9c2d5a71f44c5d/overrides-3.1.0.tar.gz\n",
      "Collecting importlib-metadata<4.0.0,>=3.7.0\n",
      "  Downloading https://files.pythonhosted.org/packages/52/d0/bdb31463f2d9ca111e39b268518e9baa3542ef73ca449b711a7b4da69764/importlib_metadata-3.10.1-py3-none-any.whl\n",
      "Requirement already satisfied: kiwisolver>=1.0.1 in /usr/local/lib/python3.7/dist-packages (from matplotlib>=2.2.3->flair) (1.3.1)\n",
      "Requirement already satisfied: cycler>=0.10 in /usr/local/lib/python3.7/dist-packages (from matplotlib>=2.2.3->flair) (0.10.0)\n",
      "Requirement already satisfied: pyparsing!=2.0.4,!=2.1.2,!=2.1.6,>=2.0.1 in /usr/local/lib/python3.7/dist-packages (from matplotlib>=2.2.3->flair) (2.4.7)\n",
      "Requirement already satisfied: typing-extensions in /usr/local/lib/python3.7/dist-packages (from torch<=1.7.1,>=1.5.0->flair) (3.7.4.3)\n",
      "Collecting tokenizers<0.11,>=0.10.1\n",
      "\u001B[?25l  Downloading https://files.pythonhosted.org/packages/d4/e2/df3543e8ffdab68f5acc73f613de9c2b155ac47f162e725dcac87c521c11/tokenizers-0.10.3-cp37-cp37m-manylinux_2_5_x86_64.manylinux1_x86_64.manylinux_2_12_x86_64.manylinux2010_x86_64.whl (3.3MB)\n",
      "\u001B[K     |████████████████████████████████| 3.3MB 34.8MB/s \n",
      "\u001B[?25hRequirement already satisfied: packaging in /usr/local/lib/python3.7/dist-packages (from transformers>=4.0.0->flair) (20.9)\n",
      "Collecting sacremoses\n",
      "\u001B[?25l  Downloading https://files.pythonhosted.org/packages/75/ee/67241dc87f266093c533a2d4d3d69438e57d7a90abb216fa076e7d475d4a/sacremoses-0.0.45-py3-none-any.whl (895kB)\n",
      "\u001B[K     |████████████████████████████████| 901kB 43.2MB/s \n",
      "\u001B[?25hRequirement already satisfied: decorator<5,>=4.3 in /usr/local/lib/python3.7/dist-packages (from networkx->hyperopt>=0.1.1->flair) (4.4.2)\n",
      "Requirement already satisfied: certifi>=2017.4.17 in /usr/local/lib/python3.7/dist-packages (from requests[socks]->gdown==3.12.2->flair) (2020.12.5)\n",
      "Requirement already satisfied: urllib3!=1.25.0,!=1.25.1,<1.26,>=1.21.1 in /usr/local/lib/python3.7/dist-packages (from requests[socks]->gdown==3.12.2->flair) (1.24.3)\n",
      "Requirement already satisfied: chardet<4,>=3.0.2 in /usr/local/lib/python3.7/dist-packages (from requests[socks]->gdown==3.12.2->flair) (3.0.4)\n",
      "Requirement already satisfied: idna<3,>=2.5 in /usr/local/lib/python3.7/dist-packages (from requests[socks]->gdown==3.12.2->flair) (2.10)\n",
      "Requirement already satisfied: PySocks!=1.5.7,>=1.5.6; extra == \"socks\" in /usr/local/lib/python3.7/dist-packages (from requests[socks]->gdown==3.12.2->flair) (1.7.1)\n",
      "Requirement already satisfied: zipp>=0.5 in /usr/local/lib/python3.7/dist-packages (from importlib-metadata<4.0.0,>=3.7.0->konoha<5.0.0,>=4.0.0->flair) (3.4.1)\n",
      "Requirement already satisfied: click in /usr/local/lib/python3.7/dist-packages (from sacremoses->transformers>=4.0.0->flair) (7.1.2)\n",
      "Building wheels for collected packages: gdown\n",
      "  Building wheel for gdown (PEP 517) ... \u001B[?25l\u001B[?25hdone\n",
      "  Created wheel for gdown: filename=gdown-3.12.2-cp37-none-any.whl size=9693 sha256=3c16dce00ec209f0926cdaddd4195b21677eefbba76972d003820cce0e36d5ca\n",
      "  Stored in directory: /root/.cache/pip/wheels/81/d0/d7/d9983facc6f2775411803e0e2d30ebf98efbf2fc6e57701e09\n",
      "Successfully built gdown\n",
      "Building wheels for collected packages: sqlitedict, ftfy, mpld3, segtok, langdetect, overrides\n",
      "  Building wheel for sqlitedict (setup.py) ... \u001B[?25l\u001B[?25hdone\n",
      "  Created wheel for sqlitedict: filename=sqlitedict-1.7.0-cp37-none-any.whl size=14376 sha256=6aece79016973c1d13d9c73cebd9e8688cffad99a64f07716c0df73a5bb3d6fa\n",
      "  Stored in directory: /root/.cache/pip/wheels/cf/c6/4f/2c64a43f041415eb8b8740bd80e15e92f0d46c5e464d8e4b9b\n",
      "  Building wheel for ftfy (setup.py) ... \u001B[?25l\u001B[?25hdone\n",
      "  Created wheel for ftfy: filename=ftfy-6.0.3-cp37-none-any.whl size=41916 sha256=d8678a343722e86e6ede0924b37320b9772f64b8378bbaae0e6a6f78e3acce61\n",
      "  Stored in directory: /root/.cache/pip/wheels/99/2c/e6/109c8a28fef7a443f67ba58df21fe1d0067ac3322e75e6b0b7\n",
      "  Building wheel for mpld3 (setup.py) ... \u001B[?25l\u001B[?25hdone\n",
      "  Created wheel for mpld3: filename=mpld3-0.3-cp37-none-any.whl size=116679 sha256=acb3c3d31a7cfa5cfd7d03f2be3ff538f289aae9132bf6bc7da5b11b31ccbcf3\n",
      "  Stored in directory: /root/.cache/pip/wheels/c0/47/fb/8a64f89aecfe0059830479308ad42d62e898a3e3cefdf6ba28\n",
      "  Building wheel for segtok (setup.py) ... \u001B[?25l\u001B[?25hdone\n",
      "  Created wheel for segtok: filename=segtok-1.5.10-cp37-none-any.whl size=25019 sha256=85b0e12c58f987e36e59fb33aa36a1da3a5927f48d20c925e6dd2ca0d590dae4\n",
      "  Stored in directory: /root/.cache/pip/wheels/b4/39/f6/9ca1c5cabde964d728023b5751c3a206a5c8cc40252321fb6b\n",
      "  Building wheel for langdetect (setup.py) ... \u001B[?25l\u001B[?25hdone\n",
      "  Created wheel for langdetect: filename=langdetect-1.0.9-cp37-none-any.whl size=993223 sha256=a4b932d8390fb2070758864dc6934a064954800e1122d141b371cbe3075d2a5a\n",
      "  Stored in directory: /root/.cache/pip/wheels/7e/18/13/038c34057808931c7ddc6c92d3aa015cf1a498df5a70268996\n",
      "  Building wheel for overrides (setup.py) ... \u001B[?25l\u001B[?25hdone\n",
      "  Created wheel for overrides: filename=overrides-3.1.0-cp37-none-any.whl size=10174 sha256=519745a123091185d07a2a28b3ae878f6c0672ebb95fbbcaba73c374840c85f0\n",
      "  Stored in directory: /root/.cache/pip/wheels/5c/24/13/6ef8600e6f147c95e595f1289a86a3cc82ed65df57582c65a9\n",
      "Successfully built sqlitedict ftfy mpld3 segtok langdetect overrides\n",
      "\u001B[31mERROR: torchvision 0.9.1+cu101 has requirement torch==1.8.1, but you'll have torch 1.7.1 which is incompatible.\u001B[0m\n",
      "\u001B[31mERROR: torchtext 0.9.1 has requirement torch==1.8.1, but you'll have torch 1.7.1 which is incompatible.\u001B[0m\n",
      "\u001B[31mERROR: konoha 4.6.5 has requirement requests<3.0.0,>=2.25.1, but you'll have requests 2.23.0 which is incompatible.\u001B[0m\n",
      "\u001B[31mERROR: transformers 4.6.1 has requirement huggingface-hub==0.0.8, but you'll have huggingface-hub 0.0.9 which is incompatible.\u001B[0m\n",
      "Installing collected packages: sqlitedict, deprecated, janome, ftfy, gdown, mpld3, segtok, sentencepiece, bpemb, overrides, importlib-metadata, konoha, langdetect, torch, huggingface-hub, tokenizers, sacremoses, transformers, flair\n",
      "  Found existing installation: gdown 3.6.4\n",
      "    Uninstalling gdown-3.6.4:\n",
      "      Successfully uninstalled gdown-3.6.4\n",
      "  Found existing installation: importlib-metadata 4.0.1\n",
      "    Uninstalling importlib-metadata-4.0.1:\n",
      "      Successfully uninstalled importlib-metadata-4.0.1\n",
      "  Found existing installation: torch 1.8.1+cu101\n",
      "    Uninstalling torch-1.8.1+cu101:\n",
      "      Successfully uninstalled torch-1.8.1+cu101\n",
      "Successfully installed bpemb-0.3.3 deprecated-1.2.12 flair-0.8.0.post1 ftfy-6.0.3 gdown-3.12.2 huggingface-hub-0.0.9 importlib-metadata-3.10.1 janome-0.4.1 konoha-4.6.5 langdetect-1.0.9 mpld3-0.3 overrides-3.1.0 sacremoses-0.0.45 segtok-1.5.10 sentencepiece-0.1.95 sqlitedict-1.7.0 tokenizers-0.10.3 torch-1.7.1 transformers-4.6.1\n"
     ],
     "name": "stdout"
    }
   ]
  },
  {
   "cell_type": "code",
   "metadata": {
    "id": "HdwhJEXL54Aw"
   },
   "source": [
    "from flair.data import Corpus\n",
    "from flair.datasets import WIKINER_ENGLISH"
   ],
   "execution_count": 5,
   "outputs": []
  },
  {
   "cell_type": "markdown",
   "metadata": {
    "id": "OXGeR8FJ8Bsj"
   },
   "source": [
    "Next, we create __wikiner_corpus__, an instance of the class __Corpus__.<br>\n",
    "\n",
    "*   WikiNwr is a NER dataset automatically generated from Wikipedia\n",
    "\n",
    "\n",
    "Read [here](https://github.com/flairNLP/flair/blob/master/resources/docs/TUTORIAL_6_CORPUS.md) the documentation of __Corpus__.<br>\n",
    "__Question 1__: explain, what the __WIKINER__ corpus is.<br>\n",
    "Then, we create __tag_dictionary__ which is an __BILUO__-__NER__-encoding."
   ]
  },
  {
   "cell_type": "code",
   "metadata": {
    "colab": {
     "base_uri": "https://localhost:8080/"
    },
    "id": "4hqOdEn7565N",
    "outputId": "9f6ba315-3c3a-4504-80bb-72b0e653f21a"
   },
   "source": [
    "# 1. get the corpus\n",
    "wikiner_corpus: Corpus = WIKINER_ENGLISH().downsample(0.1)\n",
    "print(wikiner_corpus)\n",
    "# 3. make the tag dictionary from the corpus\n",
    "tag_dictionary = Corpus.make_tag_dictionary( wikiner_corpus, tag_type='ner')\n",
    "print(tag_dictionary.idx2item)"
   ],
   "execution_count": 7,
   "outputs": [
    {
     "output_type": "stream",
     "text": [
      "2021-06-02 07:10:54,625 https://raw.githubusercontent.com/dice-group/FOX/master/input/Wikiner/aij-wikiner-en-wp3.bz2 not found in cache, downloading to /tmp/tmpij6_05ne\n"
     ],
     "name": "stdout"
    },
    {
     "output_type": "stream",
     "text": [
      "100%|██████████| 6208404/6208404 [00:00<00:00, 46232558.40B/s]"
     ],
     "name": "stderr"
    },
    {
     "output_type": "stream",
     "text": [
      "2021-06-02 07:10:54,788 copying /tmp/tmpij6_05ne to cache at /root/.flair/datasets/wikiner_english/aij-wikiner-en-wp3.bz2\n",
      "2021-06-02 07:10:54,802 removing temp file /tmp/tmpij6_05ne\n"
     ],
     "name": "stdout"
    },
    {
     "output_type": "stream",
     "text": [
      "\n"
     ],
     "name": "stderr"
    },
    {
     "output_type": "stream",
     "text": [
      "2021-06-02 07:11:01,308 Reading data from /root/.flair/datasets/wikiner_english\n",
      "2021-06-02 07:11:01,309 Train: /root/.flair/datasets/wikiner_english/aij-wikiner-en-wp3.train\n",
      "2021-06-02 07:11:01,316 Dev: None\n",
      "2021-06-02 07:11:01,318 Test: None\n",
      "Corpus: 11514 train + 1279 dev + 1422 test sentences\n",
      "[b'<unk>', b'O', b'B-PER', b'E-PER', b'B-MISC', b'E-MISC', b'B-ORG', b'E-ORG', b'S-ORG', b'I-ORG', b'S-LOC', b'S-MISC', b'I-MISC', b'I-PER', b'B-LOC', b'E-LOC', b'I-LOC', b'S-PER', b'<START>', b'<STOP>']\n"
     ],
     "name": "stdout"
    }
   ]
  },
  {
   "cell_type": "code",
   "metadata": {
    "colab": {
     "base_uri": "https://localhost:8080/"
    },
    "id": "2W4UKrp-7uw8",
    "outputId": "679b95b9-f4dc-47a9-e51c-370306e73715"
   },
   "source": [
    "print(wikiner_corpus.train[73])\n",
    "print(wikiner_corpus.train[73].to_tagged_string())"
   ],
   "execution_count": 8,
   "outputs": [
    {
     "output_type": "stream",
     "text": [
      "Sentence: \"His mother , Maia , had been secretly impregnated by Zeus .\"   [− Tokens: 12  − Token-Labels: \"His <PRP$> mother <NN> , <,> Maia <NNP/S-PER> , <,> had <VBD> been <VBN> secretly <RB> impregnated <VBN> by <IN> Zeus <NNP/S-PER> . <.>\"]\n",
      "His <PRP$> mother <NN> , <,> Maia <NNP/S-PER> , <,> had <VBD> been <VBN> secretly <RB> impregnated <VBN> by <IN> Zeus <NNP/S-PER> . <.>\n"
     ],
     "name": "stdout"
    }
   ]
  },
  {
   "cell_type": "markdown",
   "metadata": {
    "id": "Br-nRr9Q8g1T"
   },
   "source": [
    "Ok, above, we loaded a corpus, a collection of texts, and with this collection the annotation of these texts.<br>\n",
    "Next, we load the data, we prepared using Spacy."
   ]
  },
  {
   "cell_type": "code",
   "metadata": {
    "colab": {
     "base_uri": "https://localhost:8080/"
    },
    "id": "LD2GaEJN76XT",
    "outputId": "527f83e1-5e8d-4162-d573-57ce833c660d"
   },
   "source": [
    "from flair.data_fetcher import NLPTaskDataFetcher\n",
    "\n",
    "downsample = 1.0 # 1.0 is full data, try a much smaller number like 0.01 to test run the code\n",
    "data_folder = os.getcwd()\n",
    "columns = {0: 'text', 1: 'ner'}\n",
    "\n",
    "# 1. get the corpus\n",
    "corpus: Corpus = NLPTaskDataFetcher.load_column_corpus(data_folder, columns,\n",
    "                                                             train_file='training_data.csv',\n",
    "                                                             test_file='test_data.csv',\n",
    "                                                           dev_file=None).downsample(downsample)\n",
    "print(corpus)\n",
    "\n",
    "# 3. make the tag dictionary from the corpus\n",
    "tag_dictionary = corpus.make_tag_dictionary(tag_type='ner')\n",
    "print(tag_dictionary.idx2item)\n"
   ],
   "execution_count": 10,
   "outputs": [
    {
     "output_type": "stream",
     "text": [
      "2021-06-02 07:11:44,479 Reading data from /content/gdrive/My Drive/flair\n",
      "2021-06-02 07:11:44,480 Train: /content/gdrive/My Drive/flair/training_data.csv\n",
      "2021-06-02 07:11:44,483 Dev: None\n",
      "2021-06-02 07:11:44,486 Test: /content/gdrive/My Drive/flair/test_data.csv\n"
     ],
     "name": "stdout"
    },
    {
     "output_type": "stream",
     "text": [
      "/usr/local/lib/python3.7/dist-packages/ipykernel_launcher.py:11: DeprecationWarning: Call to deprecated function (or staticmethod) load_column_corpus. (Use 'flair.datasets' instead.) -- Deprecated since version 0.4.1.\n",
      "  # This is added back by InteractiveShellApp.init_path()\n"
     ],
     "name": "stderr"
    },
    {
     "output_type": "stream",
     "text": [
      "Corpus: 6179 train + 686 dev + 3089 test sentences\n",
      "[b'<unk>', b'O', b'0', b'B-College', b'I-College', b'L-College', b'B-Skills', b'I-Skills', b'L-Skills', b'U-Skills', b'U-Email', b'B-Email', b'I-Email', b'L-Email', b'U-College', b'<START>', b'<STOP>']\n"
     ],
     "name": "stdout"
    }
   ]
  },
  {
   "cell_type": "markdown",
   "metadata": {
    "id": "gCbXj9D0hkmz"
   },
   "source": [
    "__Question 2__: what is the difference between __tag_dictionary__ created in the cell above, and __tag_dictionary__ created before that.<br>\n",
    "Next, we take the first sentence from the test data, and annotate this sentence using __to_tagged_string__."
   ]
  },
  {
   "cell_type": "code",
   "metadata": {
    "colab": {
     "base_uri": "https://localhost:8080/"
    },
    "id": "Nie8-FX99JB7",
    "outputId": "29926441-e2ff-442f-cad5-aaf88ef4abf9"
   },
   "source": [
    "for sent in corpus.test:\n",
    "  print(sent.to_tagged_string())\n",
    "  break"
   ],
   "execution_count": 11,
   "outputs": [
    {
     "output_type": "stream",
     "text": [
      "Harinath Rudra Manager Mumbai , Maharashtra - Email me on Indeed : indeed.com/r/Harinath-Rudra/7c4ee202549ec8f0 <U-Email>\n"
     ],
     "name": "stdout"
    }
   ]
  },
  {
   "cell_type": "markdown",
   "metadata": {
    "id": "4QpwUdobhkm1"
   },
   "source": [
    "__Question 3__: Why is not every word annotated?<br>\n",
    "How do you explain the difference to the result from __to_tagged_string__ applied to one sentence from the wiki ner corpus?"
   ]
  }
 ]
}