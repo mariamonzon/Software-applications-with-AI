{
  "nbformat": 4,
  "nbformat_minor": 0,
  "metadata": {
    "accelerator": "GPU",
    "colab": {
      "name": "ner_4_2021.ipynb",
      "provenance": [],
      "collapsed_sections": []
    },
    "kernelspec": {
      "display_name": "Python 3",
      "language": "python",
      "name": "python3"
    },
    "language_info": {
      "codemirror_mode": {
        "name": "ipython",
        "version": 3
      },
      "file_extension": ".py",
      "mimetype": "text/x-python",
      "name": "python",
      "nbconvert_exporter": "python",
      "pygments_lexer": "ipython3",
      "version": "3.8.5"
    }
  },
  "cells": [
    {
      "cell_type": "code",
      "metadata": {
        "colab": {
          "base_uri": "https://localhost:8080/"
        },
        "id": "g2CJ4VzeNG4T",
        "outputId": "501679b8-a903-4fcf-920f-998f10338985"
      },
      "source": [
        "from google.colab import drive\n",
        "drive.mount('/content/gdrive')"
      ],
      "execution_count": 1,
      "outputs": [
        {
          "output_type": "stream",
          "text": [
            "Mounted at /content/gdrive\n"
          ],
          "name": "stdout"
        }
      ]
    },
    {
      "cell_type": "code",
      "metadata": {
        "id": "FnghTizPNWzw"
      },
      "source": [
        "import os"
      ],
      "execution_count": 2,
      "outputs": []
    },
    {
      "cell_type": "code",
      "metadata": {
        "id": "UZkVX1EnNadp"
      },
      "source": [
        "os.chdir( \"/content/gdrive/MyDrive/flair\" ) "
      ],
      "execution_count": 3,
      "outputs": []
    },
    {
      "cell_type": "code",
      "metadata": {
        "id": "vCjlaWvdxnoH"
      },
      "source": [
        "from google.colab import drive\n",
        "drive.mount('/content/drive')"
      ],
      "execution_count": null,
      "outputs": []
    },
    {
      "cell_type": "code",
      "metadata": {
        "colab": {
          "base_uri": "https://localhost:8080/"
        },
        "id": "FowyHS5ONdSJ",
        "outputId": "f808a0ec-7a3b-43fe-bdb0-7c6478f12a11"
      },
      "source": [
        "pip install flair"
      ],
      "execution_count": 4,
      "outputs": [
        {
          "output_type": "stream",
          "text": [
            "Collecting flair\n",
            "\u001b[?25l  Downloading https://files.pythonhosted.org/packages/f0/3a/1b46a0220d6176b22bcb9336619d1731301bc2c75fa926a9ef953e6e4d58/flair-0.8.0.post1-py3-none-any.whl (284kB)\n",
            "\u001b[K     |████████████████████████████████| 286kB 7.4MB/s \n",
            "\u001b[?25hRequirement already satisfied: tqdm>=4.26.0 in /usr/local/lib/python3.7/dist-packages (from flair) (4.41.1)\n",
            "Collecting bpemb>=0.3.2\n",
            "  Downloading https://files.pythonhosted.org/packages/f2/6f/9191b85109772636a8f8accb122900c34db26c091d2793218aa94954524c/bpemb-0.3.3-py3-none-any.whl\n",
            "Requirement already satisfied: gensim<=3.8.3,>=3.4.0 in /usr/local/lib/python3.7/dist-packages (from flair) (3.6.0)\n",
            "Collecting janome\n",
            "\u001b[?25l  Downloading https://files.pythonhosted.org/packages/a8/63/98858cbead27df7536c7e300c169da0999e9704d02220dc6700b804eeff0/Janome-0.4.1-py2.py3-none-any.whl (19.7MB)\n",
            "\u001b[K     |████████████████████████████████| 19.7MB 1.3MB/s \n",
            "\u001b[?25hCollecting segtok>=1.5.7\n",
            "  Downloading https://files.pythonhosted.org/packages/41/08/582dab5f4b1d5ca23bc6927b4bb977c8ff7f3a87a3b98844ef833e2f5623/segtok-1.5.10.tar.gz\n",
            "Collecting langdetect\n",
            "\u001b[?25l  Downloading https://files.pythonhosted.org/packages/0e/72/a3add0e4eec4eb9e2569554f7c70f4a3c27712f40e3284d483e88094cc0e/langdetect-1.0.9.tar.gz (981kB)\n",
            "\u001b[K     |████████████████████████████████| 983kB 37.7MB/s \n",
            "\u001b[?25hRequirement already satisfied: regex in /usr/local/lib/python3.7/dist-packages (from flair) (2019.12.20)\n",
            "Requirement already satisfied: lxml in /usr/local/lib/python3.7/dist-packages (from flair) (4.2.6)\n",
            "Collecting gdown==3.12.2\n",
            "  Downloading https://files.pythonhosted.org/packages/50/21/92c3cfe56f5c0647145c4b0083d0733dd4890a057eb100a8eeddf949ffe9/gdown-3.12.2.tar.gz\n",
            "  Installing build dependencies ... \u001b[?25l\u001b[?25hdone\n",
            "  Getting requirements to build wheel ... \u001b[?25l\u001b[?25hdone\n",
            "    Preparing wheel metadata ... \u001b[?25l\u001b[?25hdone\n",
            "Requirement already satisfied: hyperopt>=0.1.1 in /usr/local/lib/python3.7/dist-packages (from flair) (0.1.2)\n",
            "Requirement already satisfied: tabulate in /usr/local/lib/python3.7/dist-packages (from flair) (0.8.9)\n",
            "Requirement already satisfied: scikit-learn>=0.21.3 in /usr/local/lib/python3.7/dist-packages (from flair) (0.22.2.post1)\n",
            "Collecting sentencepiece==0.1.95\n",
            "\u001b[?25l  Downloading https://files.pythonhosted.org/packages/f5/99/e0808cb947ba10f575839c43e8fafc9cc44e4a7a2c8f79c60db48220a577/sentencepiece-0.1.95-cp37-cp37m-manylinux2014_x86_64.whl (1.2MB)\n",
            "\u001b[K     |████████████████████████████████| 1.2MB 40.6MB/s \n",
            "\u001b[?25hRequirement already satisfied: python-dateutil>=2.6.1 in /usr/local/lib/python3.7/dist-packages (from flair) (2.8.1)\n",
            "Collecting konoha<5.0.0,>=4.0.0\n",
            "  Downloading https://files.pythonhosted.org/packages/71/70/48a0bd55f79c328504fe6fe7ae8ff651f77a2aadbb1911701385d9bb5ca3/konoha-4.6.5-py3-none-any.whl\n",
            "Collecting huggingface-hub\n",
            "  Downloading https://files.pythonhosted.org/packages/32/a1/7c5261396da23ec364e296a4fb8a1cd6a5a2ff457215c6447038f18c0309/huggingface_hub-0.0.9-py3-none-any.whl\n",
            "Collecting deprecated>=1.2.4\n",
            "  Downloading https://files.pythonhosted.org/packages/fb/73/994edfcba74443146c84b91921fcc269374354118d4f452fb0c54c1cbb12/Deprecated-1.2.12-py2.py3-none-any.whl\n",
            "Requirement already satisfied: numpy<1.20.0 in /usr/local/lib/python3.7/dist-packages (from flair) (1.19.5)\n",
            "Collecting mpld3==0.3\n",
            "\u001b[?25l  Downloading https://files.pythonhosted.org/packages/91/95/a52d3a83d0a29ba0d6898f6727e9858fe7a43f6c2ce81a5fe7e05f0f4912/mpld3-0.3.tar.gz (788kB)\n",
            "\u001b[K     |████████████████████████████████| 798kB 32.9MB/s \n",
            "\u001b[?25hCollecting torch<=1.7.1,>=1.5.0\n",
            "\u001b[?25l  Downloading https://files.pythonhosted.org/packages/90/5d/095ddddc91c8a769a68c791c019c5793f9c4456a688ddd235d6670924ecb/torch-1.7.1-cp37-cp37m-manylinux1_x86_64.whl (776.8MB)\n",
            "\u001b[K     |████████████████████████████████| 776.8MB 22kB/s \n",
            "\u001b[?25hCollecting ftfy\n",
            "\u001b[?25l  Downloading https://files.pythonhosted.org/packages/af/da/d215a091986e5f01b80f5145cff6f22e2dc57c6b048aab2e882a07018473/ftfy-6.0.3.tar.gz (64kB)\n",
            "\u001b[K     |████████████████████████████████| 71kB 10.2MB/s \n",
            "\u001b[?25hRequirement already satisfied: matplotlib>=2.2.3 in /usr/local/lib/python3.7/dist-packages (from flair) (3.2.2)\n",
            "Collecting sqlitedict>=1.6.0\n",
            "  Downloading https://files.pythonhosted.org/packages/5c/2d/b1d99e9ad157dd7de9cd0d36a8a5876b13b55e4b75f7498bc96035fb4e96/sqlitedict-1.7.0.tar.gz\n",
            "Collecting transformers>=4.0.0\n",
            "\u001b[?25l  Downloading https://files.pythonhosted.org/packages/d5/43/cfe4ee779bbd6a678ac6a97c5a5cdeb03c35f9eaebbb9720b036680f9a2d/transformers-4.6.1-py3-none-any.whl (2.2MB)\n",
            "\u001b[K     |████████████████████████████████| 2.3MB 33.0MB/s \n",
            "\u001b[?25hRequirement already satisfied: requests in /usr/local/lib/python3.7/dist-packages (from bpemb>=0.3.2->flair) (2.23.0)\n",
            "Requirement already satisfied: six>=1.5.0 in /usr/local/lib/python3.7/dist-packages (from gensim<=3.8.3,>=3.4.0->flair) (1.15.0)\n",
            "Requirement already satisfied: scipy>=0.18.1 in /usr/local/lib/python3.7/dist-packages (from gensim<=3.8.3,>=3.4.0->flair) (1.4.1)\n",
            "Requirement already satisfied: smart-open>=1.2.1 in /usr/local/lib/python3.7/dist-packages (from gensim<=3.8.3,>=3.4.0->flair) (5.0.0)\n",
            "Requirement already satisfied: filelock in /usr/local/lib/python3.7/dist-packages (from gdown==3.12.2->flair) (3.0.12)\n",
            "Requirement already satisfied: networkx in /usr/local/lib/python3.7/dist-packages (from hyperopt>=0.1.1->flair) (2.5.1)\n",
            "Requirement already satisfied: pymongo in /usr/local/lib/python3.7/dist-packages (from hyperopt>=0.1.1->flair) (3.11.4)\n",
            "Requirement already satisfied: future in /usr/local/lib/python3.7/dist-packages (from hyperopt>=0.1.1->flair) (0.16.0)\n",
            "Requirement already satisfied: joblib>=0.11 in /usr/local/lib/python3.7/dist-packages (from scikit-learn>=0.21.3->flair) (1.0.1)\n",
            "Collecting overrides<4.0.0,>=3.0.0\n",
            "  Downloading https://files.pythonhosted.org/packages/ff/b1/10f69c00947518e6676bbd43e739733048de64b8dd998e9c2d5a71f44c5d/overrides-3.1.0.tar.gz\n",
            "Collecting importlib-metadata<4.0.0,>=3.7.0\n",
            "  Downloading https://files.pythonhosted.org/packages/52/d0/bdb31463f2d9ca111e39b268518e9baa3542ef73ca449b711a7b4da69764/importlib_metadata-3.10.1-py3-none-any.whl\n",
            "Requirement already satisfied: typing-extensions in /usr/local/lib/python3.7/dist-packages (from huggingface-hub->flair) (3.7.4.3)\n",
            "Requirement already satisfied: wrapt<2,>=1.10 in /usr/local/lib/python3.7/dist-packages (from deprecated>=1.2.4->flair) (1.12.1)\n",
            "Requirement already satisfied: wcwidth in /usr/local/lib/python3.7/dist-packages (from ftfy->flair) (0.2.5)\n",
            "Requirement already satisfied: pyparsing!=2.0.4,!=2.1.2,!=2.1.6,>=2.0.1 in /usr/local/lib/python3.7/dist-packages (from matplotlib>=2.2.3->flair) (2.4.7)\n",
            "Requirement already satisfied: kiwisolver>=1.0.1 in /usr/local/lib/python3.7/dist-packages (from matplotlib>=2.2.3->flair) (1.3.1)\n",
            "Requirement already satisfied: cycler>=0.10 in /usr/local/lib/python3.7/dist-packages (from matplotlib>=2.2.3->flair) (0.10.0)\n",
            "Collecting sacremoses\n",
            "\u001b[?25l  Downloading https://files.pythonhosted.org/packages/75/ee/67241dc87f266093c533a2d4d3d69438e57d7a90abb216fa076e7d475d4a/sacremoses-0.0.45-py3-none-any.whl (895kB)\n",
            "\u001b[K     |████████████████████████████████| 901kB 32.3MB/s \n",
            "\u001b[?25hCollecting tokenizers<0.11,>=0.10.1\n",
            "\u001b[?25l  Downloading https://files.pythonhosted.org/packages/d4/e2/df3543e8ffdab68f5acc73f613de9c2b155ac47f162e725dcac87c521c11/tokenizers-0.10.3-cp37-cp37m-manylinux_2_5_x86_64.manylinux1_x86_64.manylinux_2_12_x86_64.manylinux2010_x86_64.whl (3.3MB)\n",
            "\u001b[K     |████████████████████████████████| 3.3MB 34.9MB/s \n",
            "\u001b[?25hRequirement already satisfied: packaging in /usr/local/lib/python3.7/dist-packages (from transformers>=4.0.0->flair) (20.9)\n",
            "Requirement already satisfied: urllib3!=1.25.0,!=1.25.1,<1.26,>=1.21.1 in /usr/local/lib/python3.7/dist-packages (from requests->bpemb>=0.3.2->flair) (1.24.3)\n",
            "Requirement already satisfied: certifi>=2017.4.17 in /usr/local/lib/python3.7/dist-packages (from requests->bpemb>=0.3.2->flair) (2020.12.5)\n",
            "Requirement already satisfied: idna<3,>=2.5 in /usr/local/lib/python3.7/dist-packages (from requests->bpemb>=0.3.2->flair) (2.10)\n",
            "Requirement already satisfied: chardet<4,>=3.0.2 in /usr/local/lib/python3.7/dist-packages (from requests->bpemb>=0.3.2->flair) (3.0.4)\n",
            "Requirement already satisfied: decorator<5,>=4.3 in /usr/local/lib/python3.7/dist-packages (from networkx->hyperopt>=0.1.1->flair) (4.4.2)\n",
            "Requirement already satisfied: zipp>=0.5 in /usr/local/lib/python3.7/dist-packages (from importlib-metadata<4.0.0,>=3.7.0->konoha<5.0.0,>=4.0.0->flair) (3.4.1)\n",
            "Requirement already satisfied: click in /usr/local/lib/python3.7/dist-packages (from sacremoses->transformers>=4.0.0->flair) (7.1.2)\n",
            "Building wheels for collected packages: gdown\n",
            "  Building wheel for gdown (PEP 517) ... \u001b[?25l\u001b[?25hdone\n",
            "  Created wheel for gdown: filename=gdown-3.12.2-cp37-none-any.whl size=9693 sha256=1778a021d71e76e3832087d10abfd33898bfbdefc4e5ab59e79745084ffc0149\n",
            "  Stored in directory: /root/.cache/pip/wheels/81/d0/d7/d9983facc6f2775411803e0e2d30ebf98efbf2fc6e57701e09\n",
            "Successfully built gdown\n",
            "Building wheels for collected packages: segtok, langdetect, mpld3, ftfy, sqlitedict, overrides\n",
            "  Building wheel for segtok (setup.py) ... \u001b[?25l\u001b[?25hdone\n",
            "  Created wheel for segtok: filename=segtok-1.5.10-cp37-none-any.whl size=25019 sha256=f0565fc6e7cd87273ab5198458d0654c2333029ebd8fa31bd6dd3726a457591f\n",
            "  Stored in directory: /root/.cache/pip/wheels/b4/39/f6/9ca1c5cabde964d728023b5751c3a206a5c8cc40252321fb6b\n",
            "  Building wheel for langdetect (setup.py) ... \u001b[?25l\u001b[?25hdone\n",
            "  Created wheel for langdetect: filename=langdetect-1.0.9-cp37-none-any.whl size=993223 sha256=9a871b5667fef5f8d390c6627d264c3767912100326c7bf2ffb0f465ccc873b4\n",
            "  Stored in directory: /root/.cache/pip/wheels/7e/18/13/038c34057808931c7ddc6c92d3aa015cf1a498df5a70268996\n",
            "  Building wheel for mpld3 (setup.py) ... \u001b[?25l\u001b[?25hdone\n",
            "  Created wheel for mpld3: filename=mpld3-0.3-cp37-none-any.whl size=116679 sha256=c489ef1a00fc0df0354533b455a1a789e371d85368c0a9baf9724e9601887085\n",
            "  Stored in directory: /root/.cache/pip/wheels/c0/47/fb/8a64f89aecfe0059830479308ad42d62e898a3e3cefdf6ba28\n",
            "  Building wheel for ftfy (setup.py) ... \u001b[?25l\u001b[?25hdone\n",
            "  Created wheel for ftfy: filename=ftfy-6.0.3-cp37-none-any.whl size=41916 sha256=8a2a86e2cd2a197af96e76360e850ddb21ea7a019b755506ef97b00df189d019\n",
            "  Stored in directory: /root/.cache/pip/wheels/99/2c/e6/109c8a28fef7a443f67ba58df21fe1d0067ac3322e75e6b0b7\n",
            "  Building wheel for sqlitedict (setup.py) ... \u001b[?25l\u001b[?25hdone\n",
            "  Created wheel for sqlitedict: filename=sqlitedict-1.7.0-cp37-none-any.whl size=14376 sha256=4374fb5d2a1e78b632e51aee0ea71df5d0c6ee0bf7a1efe1953e77db4875d7df\n",
            "  Stored in directory: /root/.cache/pip/wheels/cf/c6/4f/2c64a43f041415eb8b8740bd80e15e92f0d46c5e464d8e4b9b\n",
            "  Building wheel for overrides (setup.py) ... \u001b[?25l\u001b[?25hdone\n",
            "  Created wheel for overrides: filename=overrides-3.1.0-cp37-none-any.whl size=10174 sha256=b5ee98b162233b7baf809e316c506a22fcee5670700eae44fd410a488eb1d17d\n",
            "  Stored in directory: /root/.cache/pip/wheels/5c/24/13/6ef8600e6f147c95e595f1289a86a3cc82ed65df57582c65a9\n",
            "Successfully built segtok langdetect mpld3 ftfy sqlitedict overrides\n",
            "\u001b[31mERROR: torchvision 0.9.1+cu101 has requirement torch==1.8.1, but you'll have torch 1.7.1 which is incompatible.\u001b[0m\n",
            "\u001b[31mERROR: torchtext 0.9.1 has requirement torch==1.8.1, but you'll have torch 1.7.1 which is incompatible.\u001b[0m\n",
            "\u001b[31mERROR: konoha 4.6.5 has requirement requests<3.0.0,>=2.25.1, but you'll have requests 2.23.0 which is incompatible.\u001b[0m\n",
            "\u001b[31mERROR: transformers 4.6.1 has requirement huggingface-hub==0.0.8, but you'll have huggingface-hub 0.0.9 which is incompatible.\u001b[0m\n",
            "Installing collected packages: sentencepiece, bpemb, janome, segtok, langdetect, gdown, overrides, importlib-metadata, konoha, huggingface-hub, deprecated, mpld3, torch, ftfy, sqlitedict, sacremoses, tokenizers, transformers, flair\n",
            "  Found existing installation: gdown 3.6.4\n",
            "    Uninstalling gdown-3.6.4:\n",
            "      Successfully uninstalled gdown-3.6.4\n",
            "  Found existing installation: importlib-metadata 4.0.1\n",
            "    Uninstalling importlib-metadata-4.0.1:\n",
            "      Successfully uninstalled importlib-metadata-4.0.1\n",
            "  Found existing installation: torch 1.8.1+cu101\n",
            "    Uninstalling torch-1.8.1+cu101:\n",
            "      Successfully uninstalled torch-1.8.1+cu101\n",
            "Successfully installed bpemb-0.3.3 deprecated-1.2.12 flair-0.8.0.post1 ftfy-6.0.3 gdown-3.12.2 huggingface-hub-0.0.9 importlib-metadata-3.10.1 janome-0.4.1 konoha-4.6.5 langdetect-1.0.9 mpld3-0.3 overrides-3.1.0 sacremoses-0.0.45 segtok-1.5.10 sentencepiece-0.1.95 sqlitedict-1.7.0 tokenizers-0.10.3 torch-1.7.1 transformers-4.6.1\n"
          ],
          "name": "stdout"
        }
      ]
    },
    {
      "cell_type": "code",
      "metadata": {
        "colab": {
          "base_uri": "https://localhost:8080/"
        },
        "id": "lDeL2lBkOKXH",
        "outputId": "b19fdd0b-6182-4313-9e84-5c5f42950d6e"
      },
      "source": [
        "from flair.data import Corpus\n",
        "from flair.data_fetcher import NLPTaskDataFetcher\n",
        "\n",
        "downsample = 1.0 # 1.0 is full data, try a much smaller number like 0.01 to test run the code\n",
        "data_folder = os.getcwd()\n",
        "columns = {0: 'text', 1: 'ner'}\n",
        "\n",
        "# 1. get the corpus\n",
        "corpus: Corpus = NLPTaskDataFetcher.load_column_corpus(data_folder, columns,\n",
        "                                                             train_file='training_data.csv',\n",
        "                                                             test_file='test_data.csv',\n",
        "                                                           dev_file=None).downsample(downsample)\n",
        "print(corpus)\n"
      ],
      "execution_count": 5,
      "outputs": [
        {
          "output_type": "stream",
          "text": [
            "2021-06-02 07:45:02,424 Reading data from /content/gdrive/My Drive/flair\n",
            "2021-06-02 07:45:02,425 Train: /content/gdrive/My Drive/flair/training_data.csv\n",
            "2021-06-02 07:45:02,429 Dev: None\n",
            "2021-06-02 07:45:02,432 Test: /content/gdrive/My Drive/flair/test_data.csv\n"
          ],
          "name": "stdout"
        },
        {
          "output_type": "stream",
          "text": [
            "/usr/local/lib/python3.7/dist-packages/ipykernel_launcher.py:12: DeprecationWarning: Call to deprecated function (or staticmethod) load_column_corpus. (Use 'flair.datasets' instead.) -- Deprecated since version 0.4.1.\n",
            "  if sys.path[0] == '':\n"
          ],
          "name": "stderr"
        },
        {
          "output_type": "stream",
          "text": [
            "Corpus: 6150 train + 683 dev + 3120 test sentences\n"
          ],
          "name": "stdout"
        }
      ]
    },
    {
      "cell_type": "markdown",
      "metadata": {
        "id": "0dCeZKEpOez2"
      },
      "source": [
        "Now, we have loaded __flair__ and our data.<br>\n",
        "Next, we train models for __NER__.<br>\n",
        "Inform yourselves on [Embeddings](https://github.com/flairNLP/flair/blob/master/resources/docs/TUTORIAL_3_WORD_EMBEDDING.md) in Flair.<br>\n",
        "__Question 1__: What happens when we stack embeddings?<br>\n",
        "How does this influence computational running time and accuracy?<br>\n",
        "What does the __hidden_size__ of the __SequenceTagger__ reference?<br>\n",
        "\n",
        "*   hidden_size:  number of hidden states in RNN\n",
        "\n",
        "What happens when you increase/decrease the __hidden_size__?\n",
        "\n",
        "*   the more number of hidden states in RNN, the more computations the model need to do"
      ]
    },
    {
      "cell_type": "code",
      "metadata": {
        "id": "4aIppbtDOopW"
      },
      "source": [
        "tag_dictionary = corpus.make_tag_dictionary(tag_type='ner')\n",
        "# 4. initialize embeddings. Experiment with different embedding types to see what gets the best results\n",
        "from flair.embeddings import TokenEmbeddings, WordEmbeddings, StackedEmbeddings,FlairEmbeddings, CharacterEmbeddings\n",
        "\n",
        "embedding_types = [\n",
        "    WordEmbeddings('glove'),\n",
        "    # comment in this line to use character embeddings\n",
        "    #CharacterEmbeddings(),\n",
        "\n",
        "    # comment in these lines to use flair embeddings (needs a LONG time to train :-)\n",
        "    FlairEmbeddings('news-forward'),\n",
        "    FlairEmbeddings('news-backward'),\n",
        "]\n",
        "\n",
        "embeddings: StackedEmbeddings = StackedEmbeddings(embeddings=embedding_types)\n",
        "\n",
        "# 5. initialize sequence tagger\n",
        "from flair.models import SequenceTagger\n",
        "\n",
        "tagger: SequenceTagger = SequenceTagger(hidden_size=256,\n",
        "                                        embeddings=embeddings,\n",
        "                                        tag_dictionary=tag_dictionary,\n",
        "                                        tag_type='ner',\n",
        "                                        use_crf=True)"
      ],
      "execution_count": 8,
      "outputs": []
    },
    {
      "cell_type": "markdown",
      "metadata": {
        "id": "HXvWxWB3PjhP"
      },
      "source": [
        "Start Training"
      ]
    },
    {
      "cell_type": "code",
      "metadata": {
        "colab": {
          "base_uri": "https://localhost:8080/"
        },
        "id": "2H7-e-_5Peww",
        "outputId": "30a53bbd-7f90-4c1e-f25f-4be58aee5a91"
      },
      "source": [
        "# 6. initialize trainer\n",
        "from flair.trainers import ModelTrainer\n",
        "\n",
        "trainer: ModelTrainer = ModelTrainer(tagger, corpus)\n",
        "\n",
        "model_name = 'flair_glove'\n",
        "\n",
        "trainer.train(model_name,\n",
        "              learning_rate=0.1,\n",
        "              mini_batch_size=10,\n",
        "              #anneal_with_restarts=True,\n",
        "              max_epochs=5)"
      ],
      "execution_count": 9,
      "outputs": [
        {
          "output_type": "stream",
          "text": [
            "2021-06-02 07:50:46,479 ----------------------------------------------------------------------------------------------------\n",
            "2021-06-02 07:50:46,483 Model: \"SequenceTagger(\n",
            "  (embeddings): StackedEmbeddings(\n",
            "    (list_embedding_0): WordEmbeddings('glove')\n",
            "    (list_embedding_1): FlairEmbeddings(\n",
            "      (lm): LanguageModel(\n",
            "        (drop): Dropout(p=0.05, inplace=False)\n",
            "        (encoder): Embedding(300, 100)\n",
            "        (rnn): LSTM(100, 2048)\n",
            "        (decoder): Linear(in_features=2048, out_features=300, bias=True)\n",
            "      )\n",
            "    )\n",
            "    (list_embedding_2): FlairEmbeddings(\n",
            "      (lm): LanguageModel(\n",
            "        (drop): Dropout(p=0.05, inplace=False)\n",
            "        (encoder): Embedding(300, 100)\n",
            "        (rnn): LSTM(100, 2048)\n",
            "        (decoder): Linear(in_features=2048, out_features=300, bias=True)\n",
            "      )\n",
            "    )\n",
            "  )\n",
            "  (word_dropout): WordDropout(p=0.05)\n",
            "  (locked_dropout): LockedDropout(p=0.5)\n",
            "  (embedding2nn): Linear(in_features=4196, out_features=4196, bias=True)\n",
            "  (rnn): LSTM(4196, 256, batch_first=True, bidirectional=True)\n",
            "  (linear): Linear(in_features=512, out_features=17, bias=True)\n",
            "  (beta): 1.0\n",
            "  (weights): None\n",
            "  (weight_tensor) None\n",
            ")\"\n",
            "2021-06-02 07:50:46,485 ----------------------------------------------------------------------------------------------------\n",
            "2021-06-02 07:50:46,488 Corpus: \"Corpus: 6150 train + 683 dev + 3120 test sentences\"\n",
            "2021-06-02 07:50:46,489 ----------------------------------------------------------------------------------------------------\n",
            "2021-06-02 07:50:46,491 Parameters:\n",
            "2021-06-02 07:50:46,493  - learning_rate: \"0.1\"\n",
            "2021-06-02 07:50:46,495  - mini_batch_size: \"10\"\n",
            "2021-06-02 07:50:46,497  - patience: \"3\"\n",
            "2021-06-02 07:50:46,500  - anneal_factor: \"0.5\"\n",
            "2021-06-02 07:50:46,502  - max_epochs: \"5\"\n",
            "2021-06-02 07:50:46,504  - shuffle: \"True\"\n",
            "2021-06-02 07:50:46,506  - train_with_dev: \"False\"\n",
            "2021-06-02 07:50:46,508  - batch_growth_annealing: \"False\"\n",
            "2021-06-02 07:50:46,511 ----------------------------------------------------------------------------------------------------\n",
            "2021-06-02 07:50:46,513 Model training base path: \"flair_glove\"\n",
            "2021-06-02 07:50:46,516 ----------------------------------------------------------------------------------------------------\n",
            "2021-06-02 07:50:46,518 Device: cuda:0\n",
            "2021-06-02 07:50:46,521 ----------------------------------------------------------------------------------------------------\n",
            "2021-06-02 07:50:46,522 Embeddings storage mode: cpu\n",
            "2021-06-02 07:50:46,535 ----------------------------------------------------------------------------------------------------\n",
            "2021-06-02 07:51:31,548 epoch 1 - iter 61/615 - loss 10.68558160 - samples/sec: 13.55 - lr: 0.100000\n",
            "2021-06-02 07:52:14,142 epoch 1 - iter 122/615 - loss 9.30929277 - samples/sec: 14.32 - lr: 0.100000\n",
            "2021-06-02 07:52:58,445 epoch 1 - iter 183/615 - loss 8.67032227 - samples/sec: 13.77 - lr: 0.100000\n",
            "2021-06-02 07:53:51,065 epoch 1 - iter 244/615 - loss 8.11938906 - samples/sec: 11.59 - lr: 0.100000\n",
            "2021-06-02 07:55:09,305 epoch 1 - iter 305/615 - loss 8.36360595 - samples/sec: 7.80 - lr: 0.100000\n",
            "2021-06-02 07:56:16,211 epoch 1 - iter 366/615 - loss 8.48825307 - samples/sec: 9.12 - lr: 0.100000\n",
            "2021-06-02 07:57:15,070 epoch 1 - iter 427/615 - loss 8.13552375 - samples/sec: 10.36 - lr: 0.100000\n",
            "2021-06-02 07:57:58,437 epoch 1 - iter 488/615 - loss 7.64517353 - samples/sec: 14.07 - lr: 0.100000\n",
            "2021-06-02 07:58:44,993 epoch 1 - iter 549/615 - loss 7.40404150 - samples/sec: 13.10 - lr: 0.100000\n",
            "2021-06-02 07:59:29,849 epoch 1 - iter 610/615 - loss 7.16497489 - samples/sec: 13.60 - lr: 0.100000\n",
            "2021-06-02 07:59:31,245 ----------------------------------------------------------------------------------------------------\n",
            "2021-06-02 07:59:31,248 EPOCH 1 done: loss 7.1557 - lr 0.1000000\n",
            "2021-06-02 08:00:31,908 DEV : loss 3.8962035179138184 - score 0.2323\n",
            "2021-06-02 08:00:31,981 BAD EPOCHS (no improvement): 0\n",
            "saving best model\n",
            "2021-06-02 08:00:36,558 ----------------------------------------------------------------------------------------------------\n",
            "2021-06-02 08:00:46,801 epoch 2 - iter 61/615 - loss 3.64591740 - samples/sec: 59.62 - lr: 0.100000\n",
            "2021-06-02 08:00:57,946 epoch 2 - iter 122/615 - loss 4.28699779 - samples/sec: 54.75 - lr: 0.100000\n",
            "2021-06-02 08:01:09,194 epoch 2 - iter 183/615 - loss 4.47018506 - samples/sec: 54.25 - lr: 0.100000\n",
            "2021-06-02 08:01:18,319 epoch 2 - iter 244/615 - loss 4.14997402 - samples/sec: 66.88 - lr: 0.100000\n",
            "2021-06-02 08:01:28,975 epoch 2 - iter 305/615 - loss 4.05954033 - samples/sec: 57.27 - lr: 0.100000\n",
            "2021-06-02 08:01:38,268 epoch 2 - iter 366/615 - loss 4.04066317 - samples/sec: 65.68 - lr: 0.100000\n",
            "2021-06-02 08:01:47,943 epoch 2 - iter 427/615 - loss 3.97630675 - samples/sec: 63.09 - lr: 0.100000\n",
            "2021-06-02 08:01:56,643 epoch 2 - iter 488/615 - loss 3.84935041 - samples/sec: 70.15 - lr: 0.100000\n",
            "2021-06-02 08:02:08,904 epoch 2 - iter 549/615 - loss 3.89265571 - samples/sec: 49.77 - lr: 0.100000\n",
            "2021-06-02 08:02:19,405 epoch 2 - iter 610/615 - loss 3.77196433 - samples/sec: 58.11 - lr: 0.100000\n",
            "2021-06-02 08:02:20,482 ----------------------------------------------------------------------------------------------------\n",
            "2021-06-02 08:02:20,484 EPOCH 2 done: loss 3.7708 - lr 0.1000000\n",
            "2021-06-02 08:02:24,720 DEV : loss 6.1367669105529785 - score 0.036\n",
            "2021-06-02 08:02:24,800 BAD EPOCHS (no improvement): 1\n",
            "2021-06-02 08:02:24,804 ----------------------------------------------------------------------------------------------------\n",
            "2021-06-02 08:02:36,149 epoch 3 - iter 61/615 - loss 3.68879162 - samples/sec: 53.80 - lr: 0.100000\n",
            "2021-06-02 08:02:47,253 epoch 3 - iter 122/615 - loss 3.73224925 - samples/sec: 54.96 - lr: 0.100000\n",
            "2021-06-02 08:02:56,200 epoch 3 - iter 183/615 - loss 3.39197172 - samples/sec: 68.23 - lr: 0.100000\n",
            "2021-06-02 08:03:06,842 epoch 3 - iter 244/615 - loss 3.31937091 - samples/sec: 57.35 - lr: 0.100000\n",
            "2021-06-02 08:03:16,186 epoch 3 - iter 305/615 - loss 3.11260766 - samples/sec: 65.32 - lr: 0.100000\n",
            "2021-06-02 08:03:25,232 epoch 3 - iter 366/615 - loss 3.03597346 - samples/sec: 67.46 - lr: 0.100000\n",
            "2021-06-02 08:03:35,093 epoch 3 - iter 427/615 - loss 2.92708985 - samples/sec: 61.89 - lr: 0.100000\n",
            "2021-06-02 08:03:44,121 epoch 3 - iter 488/615 - loss 2.91781493 - samples/sec: 67.60 - lr: 0.100000\n",
            "2021-06-02 08:03:53,757 epoch 3 - iter 549/615 - loss 2.90955660 - samples/sec: 63.33 - lr: 0.100000\n",
            "2021-06-02 08:04:05,400 epoch 3 - iter 610/615 - loss 2.96994386 - samples/sec: 52.41 - lr: 0.100000\n",
            "2021-06-02 08:04:06,139 ----------------------------------------------------------------------------------------------------\n",
            "2021-06-02 08:04:06,141 EPOCH 3 done: loss 2.9608 - lr 0.1000000\n",
            "2021-06-02 08:04:10,187 DEV : loss 2.027935266494751 - score 0.1497\n",
            "2021-06-02 08:04:10,259 BAD EPOCHS (no improvement): 2\n",
            "2021-06-02 08:04:10,264 ----------------------------------------------------------------------------------------------------\n",
            "2021-06-02 08:04:19,446 epoch 4 - iter 61/615 - loss 2.57948110 - samples/sec: 66.48 - lr: 0.100000\n",
            "2021-06-02 08:04:28,145 epoch 4 - iter 122/615 - loss 2.31003144 - samples/sec: 70.16 - lr: 0.100000\n",
            "2021-06-02 08:04:38,683 epoch 4 - iter 183/615 - loss 2.23520093 - samples/sec: 57.91 - lr: 0.100000\n",
            "2021-06-02 08:04:51,020 epoch 4 - iter 244/615 - loss 2.38943266 - samples/sec: 49.46 - lr: 0.100000\n",
            "2021-06-02 08:05:00,909 epoch 4 - iter 305/615 - loss 2.36311648 - samples/sec: 61.71 - lr: 0.100000\n",
            "2021-06-02 08:05:10,141 epoch 4 - iter 366/615 - loss 2.40785443 - samples/sec: 66.11 - lr: 0.100000\n",
            "2021-06-02 08:05:20,365 epoch 4 - iter 427/615 - loss 2.43406848 - samples/sec: 59.70 - lr: 0.100000\n",
            "2021-06-02 08:05:29,744 epoch 4 - iter 488/615 - loss 2.42821923 - samples/sec: 65.08 - lr: 0.100000\n",
            "2021-06-02 08:05:40,724 epoch 4 - iter 549/615 - loss 2.49190373 - samples/sec: 55.58 - lr: 0.100000\n",
            "2021-06-02 08:05:50,092 epoch 4 - iter 610/615 - loss 2.47610330 - samples/sec: 65.15 - lr: 0.100000\n",
            "2021-06-02 08:05:50,777 ----------------------------------------------------------------------------------------------------\n",
            "2021-06-02 08:05:50,779 EPOCH 4 done: loss 2.4763 - lr 0.1000000\n",
            "2021-06-02 08:05:54,788 DEV : loss 1.7294437885284424 - score 0.1914\n",
            "2021-06-02 08:05:54,864 BAD EPOCHS (no improvement): 3\n",
            "2021-06-02 08:05:54,886 ----------------------------------------------------------------------------------------------------\n",
            "2021-06-02 08:06:04,739 epoch 5 - iter 61/615 - loss 2.84517218 - samples/sec: 61.96 - lr: 0.100000\n",
            "2021-06-02 08:06:14,104 epoch 5 - iter 122/615 - loss 2.51432934 - samples/sec: 65.17 - lr: 0.100000\n",
            "2021-06-02 08:06:24,688 epoch 5 - iter 183/615 - loss 2.34529583 - samples/sec: 57.67 - lr: 0.100000\n",
            "2021-06-02 08:06:33,926 epoch 5 - iter 244/615 - loss 2.17904488 - samples/sec: 66.06 - lr: 0.100000\n",
            "2021-06-02 08:06:44,042 epoch 5 - iter 305/615 - loss 2.23878447 - samples/sec: 60.32 - lr: 0.100000\n",
            "2021-06-02 08:06:52,796 epoch 5 - iter 366/615 - loss 2.23289604 - samples/sec: 69.72 - lr: 0.100000\n",
            "2021-06-02 08:07:03,503 epoch 5 - iter 427/615 - loss 2.25012138 - samples/sec: 57.00 - lr: 0.100000\n",
            "2021-06-02 08:07:14,109 epoch 5 - iter 488/615 - loss 2.24596204 - samples/sec: 57.54 - lr: 0.100000\n",
            "2021-06-02 08:07:24,441 epoch 5 - iter 549/615 - loss 2.26381954 - samples/sec: 59.07 - lr: 0.100000\n",
            "2021-06-02 08:07:33,174 epoch 5 - iter 610/615 - loss 2.20813311 - samples/sec: 69.89 - lr: 0.100000\n",
            "2021-06-02 08:07:34,582 ----------------------------------------------------------------------------------------------------\n",
            "2021-06-02 08:07:34,584 EPOCH 5 done: loss 2.2083 - lr 0.1000000\n",
            "2021-06-02 08:07:38,606 DEV : loss 2.30745267868042 - score 0.1783\n",
            "Epoch     5: reducing learning rate of group 0 to 5.0000e-02.\n",
            "2021-06-02 08:07:38,678 BAD EPOCHS (no improvement): 4\n",
            "2021-06-02 08:07:42,976 ----------------------------------------------------------------------------------------------------\n",
            "2021-06-02 08:07:42,982 Testing using best model ...\n",
            "2021-06-02 08:07:42,989 loading file flair_glove/best-model.pt\n",
            "2021-06-02 08:11:23,575 0.2402\t0.3325\t0.2789\n",
            "2021-06-02 08:11:23,581 \n",
            "Results:\n",
            "- F1-score (micro) 0.2789\n",
            "- F1-score (macro) 0.0776\n",
            "\n",
            "By class:\n",
            "0          tp: 1023 - fp: 3177 - fn: 1386 - precision: 0.2436 - recall: 0.4247 - f1-score: 0.3096\n",
            "College    tp: 17 - fp: 88 - fn: 133 - precision: 0.1619 - recall: 0.1133 - f1-score: 0.1333\n",
            "Email      tp: 0 - fp: 0 - fn: 25 - precision: 0.0000 - recall: 0.0000 - f1-score: 0.0000\n",
            "L-College  tp: 29 - fp: 25 - fn: 107 - precision: 0.5370 - recall: 0.2132 - f1-score: 0.3053\n",
            "L-Email    tp: 0 - fp: 0 - fn: 25 - precision: 0.0000 - recall: 0.0000 - f1-score: 0.0000\n",
            "L-Skills   tp: 0 - fp: 2 - fn: 159 - precision: 0.0000 - recall: 0.0000 - f1-score: 0.0000\n",
            "Skills     tp: 4 - fp: 98 - fn: 182 - precision: 0.0392 - recall: 0.0215 - f1-score: 0.0278\n",
            "U-College  tp: 0 - fp: 4 - fn: 7 - precision: 0.0000 - recall: 0.0000 - f1-score: 0.0000\n",
            "U-Email    tp: 0 - fp: 0 - fn: 41 - precision: 0.0000 - recall: 0.0000 - f1-score: 0.0000\n",
            "U-Skills   tp: 0 - fp: 0 - fn: 89 - precision: 0.0000 - recall: 0.0000 - f1-score: 0.0000\n",
            "2021-06-02 08:11:23,586 ----------------------------------------------------------------------------------------------------\n"
          ],
          "name": "stdout"
        },
        {
          "output_type": "execute_result",
          "data": {
            "text/plain": [
              "{'dev_loss_history': [3.8962035179138184,\n",
              "  6.1367669105529785,\n",
              "  2.027935266494751,\n",
              "  1.7294437885284424,\n",
              "  2.30745267868042],\n",
              " 'dev_score_history': [0.23229813664596272,\n",
              "  0.036036036036036036,\n",
              "  0.14971751412429377,\n",
              "  0.19139784946236563,\n",
              "  0.1782642689601251],\n",
              " 'test_score': 0.27891863789966204,\n",
              " 'train_loss_history': [7.155693263124402,\n",
              "  3.770763275157509,\n",
              "  2.9608038811270543,\n",
              "  2.4762661956553536,\n",
              "  2.208251720500307]}"
            ]
          },
          "metadata": {
            "tags": []
          },
          "execution_count": 9
        }
      ]
    },
    {
      "cell_type": "code",
      "metadata": {
        "colab": {
          "base_uri": "https://localhost:8080/",
          "height": 619
        },
        "id": "1f_4C828R1nv",
        "outputId": "525c38d8-acf6-4c7f-a5af-504c5ff92639"
      },
      "source": [
        "from flair.visual.training_curves import Plotter\n",
        "plotter = Plotter()\n",
        "plotter.plot_training_curves( os.getcwd() + '/flair_glove/loss.tsv')"
      ],
      "execution_count": 13,
      "outputs": [
        {
          "output_type": "stream",
          "text": [
            "2021-06-02 08:13:54,861 ----------------------------------------------------------------------------------------------------\n",
            "2021-06-02 08:13:54,867 WARNING: No LOSS found for test split in this data.\n",
            "2021-06-02 08:13:54,869 Are you sure you want to plot LOSS and not another value?\n",
            "2021-06-02 08:13:54,872 ----------------------------------------------------------------------------------------------------\n",
            "2021-06-02 08:13:54,894 ----------------------------------------------------------------------------------------------------\n",
            "2021-06-02 08:13:54,896 WARNING: No F1 found for test split in this data.\n",
            "2021-06-02 08:13:54,897 Are you sure you want to plot F1 and not another value?\n",
            "2021-06-02 08:13:54,898 ----------------------------------------------------------------------------------------------------\n",
            "Loss and F1 plots are saved in /content/gdrive/My Drive/flair/flair_glove/training.png\n"
          ],
          "name": "stdout"
        },
        {
          "output_type": "display_data",
          "data": {
            "image/png": "[encoded data removed]",
            "text/plain": [
              "<Figure size 1080x720 with 2 Axes>"
            ]
          },
          "metadata": {
            "tags": [],
            "needs_background": "light"
          }
        }
      ]
    },
    {
      "cell_type": "markdown",
      "metadata": {
        "id": "6qquwVKek9ZI"
      },
      "source": [
        "__Question 2__: Suggest, how could you improve the F1-value?<br>\n",
        "\n",
        "\n",
        "*  Longer Training\n",
        "*  Early Stopping\n",
        "\n",
        "\n",
        "Are 5 epochs enough for training?<br>\n",
        "\n",
        "How could you speed up computation?"
      ]
    },
    {
      "cell_type": "markdown",
      "metadata": {
        "id": "oYxsnhEntqCm"
      },
      "source": [
        ""
      ]
    }
  ]
}