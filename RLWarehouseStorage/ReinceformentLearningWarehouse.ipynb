{
 "cells": [
  {
   "cell_type": "markdown",
   "metadata": {},
   "source": [
    "# Reinforcement Learning in a Smart Factory\n",
    "\n",
    "Optimization of the robots route for pick-up and storage of items in a warehouse: \n",
    "1. Implement a reinforcement-learning based algorithm\n",
    "2. The robot is the agent and decides where to place the next part\n",
    "3. Use the markov decision process toolbox for your solution\n",
    "4. Choose the best performing MDP"
   ]
  },
  {
   "cell_type": "code",
   "execution_count": 165,
   "metadata": {
    "scrolled": true
   },
   "outputs": [],
   "source": [
    "#!pip install pymdptoolbox"
   ]
  },
  {
   "cell_type": "code",
   "execution_count": 166,
   "metadata": {},
   "outputs": [],
   "source": [
    "## Imports\n",
    "import mdptoolbox\n",
    "import pandas as pd\n",
    "import itertools as it\n",
    "import numpy as np\n",
    "import pickle\n",
    "import time\n",
    "from scipy import sparse"
   ]
  },
  {
   "cell_type": "markdown",
   "metadata": {},
   "source": [
    "## Import  data"
   ]
  },
  {
   "cell_type": "code",
   "execution_count": 167,
   "metadata": {},
   "outputs": [],
   "source": [
    "file_path = 'Reinforcement Learning Data - warehousetraining.txt'\n",
    "file_path_test= 'Reinforcement Learning Data - warehouseorder.txt'"
   ]
  },
  {
   "cell_type": "code",
   "execution_count": 168,
   "metadata": {},
   "outputs": [],
   "source": [
    "# Name the data colums corectly\n",
    "data = pd.read_csv(file_path, sep='\\t', names=[\"action\", \"color_state\"])\n",
    "test_data = pd.read_csv(file_path_test, sep='\\t', names=[\"action\", \"color_state\"])"
   ]
  },
  {
   "cell_type": "code",
   "execution_count": 169,
   "metadata": {},
   "outputs": [
    {
     "data": {
      "text/html": [
       "<div>\n",
       "<style scoped>\n",
       "    .dataframe tbody tr th:only-of-type {\n",
       "        vertical-align: middle;\n",
       "    }\n",
       "\n",
       "    .dataframe tbody tr th {\n",
       "        vertical-align: top;\n",
       "    }\n",
       "\n",
       "    .dataframe thead th {\n",
       "        text-align: right;\n",
       "    }\n",
       "</style>\n",
       "<table border=\"1\" class=\"dataframe\">\n",
       "  <thead>\n",
       "    <tr style=\"text-align: right;\">\n",
       "      <th></th>\n",
       "      <th></th>\n",
       "    </tr>\n",
       "    <tr>\n",
       "      <th>action</th>\n",
       "      <th>color_state</th>\n",
       "    </tr>\n",
       "  </thead>\n",
       "  <tbody>\n",
       "    <tr>\n",
       "      <th rowspan=\"3\" valign=\"top\">restore</th>\n",
       "      <th>blue</th>\n",
       "    </tr>\n",
       "    <tr>\n",
       "      <th>red</th>\n",
       "    </tr>\n",
       "    <tr>\n",
       "      <th>white</th>\n",
       "    </tr>\n",
       "    <tr>\n",
       "      <th rowspan=\"3\" valign=\"top\">store</th>\n",
       "      <th>blue</th>\n",
       "    </tr>\n",
       "    <tr>\n",
       "      <th>red</th>\n",
       "    </tr>\n",
       "    <tr>\n",
       "      <th>white</th>\n",
       "    </tr>\n",
       "  </tbody>\n",
       "</table>\n",
       "</div>"
      ],
      "text/plain": [
       "Empty DataFrame\n",
       "Columns: []\n",
       "Index: [(restore, blue), (restore, red), (restore, white), (store, blue), (store, red), (store, white)]"
      ]
     },
     "execution_count": 169,
     "metadata": {},
     "output_type": "execute_result"
    }
   ],
   "source": [
    "#print(data.info()) print(data.dtypes)\n",
    "data.head()\n",
    "data.groupby([\"action\", \"color_state\"]).count()"
   ]
  },
  {
   "cell_type": "code",
   "execution_count": 170,
   "metadata": {},
   "outputs": [],
   "source": [
    "actions =  list(np.unique(data.action))  #['restore', 'store']\n",
    "item_colors  =  list(np.unique(data.color_state))   #['blue' 'red' 'white']"
   ]
  },
  {
   "cell_type": "code",
   "execution_count": 171,
   "metadata": {},
   "outputs": [],
   "source": [
    "train_data = np.array( [[actions.index(v[0]), item_colors.index(v[1])] for v in data.values] , dtype=int)"
   ]
  },
  {
   "cell_type": "markdown",
   "metadata": {},
   "source": [
    "## Reinforcement-learning based algorithm: Markov Descision Process (MDP)\n",
    "\n",
    "A MDP is a discrete time stochastic control process where the markov property is satisfied\n",
    "1. Create Transitions Matrix represeting the probabilities to lead from state *s0* another state *s1* within the action *a*\n",
    "2. Generate Reward Matrix defined reward after action *a* in state *s0* to reach state *s1*\n",
    "\n",
    "Optimize the route with following constraints:\n",
    "- Size of warehouse is {1..3} x {1..3}\n",
    "- Separate start/stop position outside the 3x3 storage space where the robot have to go at the end of storage and pick-up\n",
    "- The first position the robot can move into is always (1,1)\n",
    "- Robot can move to adjacent fields\n",
    "- Robot cannot move diagonally\n",
    "- There are three types of items: (white, blue, red)"
   ]
  },
  {
   "cell_type": "code",
   "execution_count": 270,
   "metadata": {},
   "outputs": [
    {
     "name": "stdout",
     "output_type": "stream",
     "text": [
      "The total number of states is:  1536\n"
     ]
    }
   ],
   "source": [
    "# Set Markov Descision Process (MDP) Constrains\n",
    "warehouse_size = [2,2] #2x2 grid\n",
    "grid_size = np.prod(warehouse_size)\n",
    "grids_cells = [(i+1,j+1) for j in range(warehouse_size[1]) for i in range(warehouse_size[0]) ]\n",
    "\n",
    "# The actions is equal to grid size \n",
    "actions_moves = grid_size.copy()\n",
    "\n",
    "items = len(item_colors) + 1 # Consider also no item\n",
    "moves = len(actions)*len(item_colors)\n",
    "\n",
    "#Total posibilities of item in any satate on  the field\n",
    "items_grid = items ** grid_size\n",
    "total_states = items_grid * moves\n",
    "\n",
    "print(\"The total number of states is: \", total_states)"
   ]
  },
  {
   "cell_type": "code",
   "execution_count": null,
   "outputs": [],
   "source": [
    "item_states_ID = dict((k,v) for v,k in enumerate( [\"noitem\"] + item_colors ))# dict.fromkeys(item_colors + [\"noitem\"], 0)\n",
    "item_states_ID"
   ],
   "metadata": {
    "collapsed": false,
    "pycharm": {
     "name": "#%%\n"
    }
   }
  },
  {
   "cell_type": "code",
   "execution_count": 284,
   "metadata": {},
   "outputs": [
    {
     "name": "stdout",
     "output_type": "stream",
     "text": [
      "Number of posible states:  256\n"
     ]
    }
   ],
   "source": [
    "# Create all the posible states indexing\n",
    "def compute_grid_index(grid_size, item_states_ID): \n",
    "    grids = [s for s in it.product(item_states_ID.values(), repeat=grid_size)]\n",
    "    return np.array(grids)\n",
    "\n",
    "grids = compute_grid_index(grid_size, item_states_ID)\n",
    "print(\"Number of posible states: \", len(grids))"
   ]
  },
  {
   "cell_type": "code",
   "execution_count": 414,
   "metadata": {
    "scrolled": true
   },
   "outputs": [
    {
     "data": {
      "text/html": [
       "<div>\n",
       "<style scoped>\n",
       "    .dataframe tbody tr th:only-of-type {\n",
       "        vertical-align: middle;\n",
       "    }\n",
       "\n",
       "    .dataframe tbody tr th {\n",
       "        vertical-align: top;\n",
       "    }\n",
       "\n",
       "    .dataframe thead th {\n",
       "        text-align: right;\n",
       "    }\n",
       "</style>\n",
       "<table border=\"1\" class=\"dataframe\">\n",
       "  <thead>\n",
       "    <tr style=\"text-align: right;\">\n",
       "      <th></th>\n",
       "      <th>(1, 1)</th>\n",
       "      <th>(2, 1)</th>\n",
       "      <th>(1, 2)</th>\n",
       "      <th>(2, 2)</th>\n",
       "    </tr>\n",
       "  </thead>\n",
       "  <tbody>\n",
       "    <tr>\n",
       "      <th>20</th>\n",
       "      <td>0</td>\n",
       "      <td>1</td>\n",
       "      <td>1</td>\n",
       "      <td>0</td>\n",
       "    </tr>\n",
       "    <tr>\n",
       "      <th>21</th>\n",
       "      <td>0</td>\n",
       "      <td>1</td>\n",
       "      <td>1</td>\n",
       "      <td>1</td>\n",
       "    </tr>\n",
       "    <tr>\n",
       "      <th>22</th>\n",
       "      <td>0</td>\n",
       "      <td>1</td>\n",
       "      <td>1</td>\n",
       "      <td>2</td>\n",
       "    </tr>\n",
       "    <tr>\n",
       "      <th>23</th>\n",
       "      <td>0</td>\n",
       "      <td>1</td>\n",
       "      <td>1</td>\n",
       "      <td>3</td>\n",
       "    </tr>\n",
       "    <tr>\n",
       "      <th>24</th>\n",
       "      <td>0</td>\n",
       "      <td>1</td>\n",
       "      <td>2</td>\n",
       "      <td>0</td>\n",
       "    </tr>\n",
       "    <tr>\n",
       "      <th>25</th>\n",
       "      <td>0</td>\n",
       "      <td>1</td>\n",
       "      <td>2</td>\n",
       "      <td>1</td>\n",
       "    </tr>\n",
       "    <tr>\n",
       "      <th>26</th>\n",
       "      <td>0</td>\n",
       "      <td>1</td>\n",
       "      <td>2</td>\n",
       "      <td>2</td>\n",
       "    </tr>\n",
       "    <tr>\n",
       "      <th>27</th>\n",
       "      <td>0</td>\n",
       "      <td>1</td>\n",
       "      <td>2</td>\n",
       "      <td>3</td>\n",
       "    </tr>\n",
       "    <tr>\n",
       "      <th>28</th>\n",
       "      <td>0</td>\n",
       "      <td>1</td>\n",
       "      <td>3</td>\n",
       "      <td>0</td>\n",
       "    </tr>\n",
       "    <tr>\n",
       "      <th>29</th>\n",
       "      <td>0</td>\n",
       "      <td>1</td>\n",
       "      <td>3</td>\n",
       "      <td>1</td>\n",
       "    </tr>\n",
       "  </tbody>\n",
       "</table>\n",
       "</div>"
      ],
      "text/plain": [
       "    (1, 1)  (2, 1)  (1, 2)  (2, 2)\n",
       "20       0       1       1       0\n",
       "21       0       1       1       1\n",
       "22       0       1       1       2\n",
       "23       0       1       1       3\n",
       "24       0       1       2       0\n",
       "25       0       1       2       1\n",
       "26       0       1       2       2\n",
       "27       0       1       2       3\n",
       "28       0       1       3       0\n",
       "29       0       1       3       1"
      ]
     },
     "execution_count": 414,
     "metadata": {},
     "output_type": "execute_result"
    }
   ],
   "source": [
    "grid_states= pd.DataFrame(data=grids, columns=grids_cells)\n",
    "grid_states[20:30]\n"
   ]
  },
  {
   "cell_type": "code",
   "execution_count": 287,
   "metadata": {},
   "outputs": [],
   "source": [
    "def generate_warehosue_states(grid_states, item_states_ID,):\n",
    "    warehouse_states = pd.DataFrame()\n",
    "    for k,v in item_states_ID.items(): \n",
    "        warehouse_states[k] = np.sum(grid_states ==v, axis =1)\n",
    "    return  warehouse_states"
   ]
  },
  {
   "cell_type": "code",
   "execution_count": 416,
   "metadata": {},
   "outputs": [
    {
     "data": {
      "text/html": [
       "<div>\n",
       "<style scoped>\n",
       "    .dataframe tbody tr th:only-of-type {\n",
       "        vertical-align: middle;\n",
       "    }\n",
       "\n",
       "    .dataframe tbody tr th {\n",
       "        vertical-align: top;\n",
       "    }\n",
       "\n",
       "    .dataframe thead th {\n",
       "        text-align: right;\n",
       "    }\n",
       "</style>\n",
       "<table border=\"1\" class=\"dataframe\">\n",
       "  <thead>\n",
       "    <tr style=\"text-align: right;\">\n",
       "      <th></th>\n",
       "      <th>noitem</th>\n",
       "      <th>blue</th>\n",
       "      <th>red</th>\n",
       "      <th>white</th>\n",
       "    </tr>\n",
       "  </thead>\n",
       "  <tbody>\n",
       "    <tr>\n",
       "      <th>20</th>\n",
       "      <td>2</td>\n",
       "      <td>2</td>\n",
       "      <td>0</td>\n",
       "      <td>0</td>\n",
       "    </tr>\n",
       "    <tr>\n",
       "      <th>21</th>\n",
       "      <td>1</td>\n",
       "      <td>3</td>\n",
       "      <td>0</td>\n",
       "      <td>0</td>\n",
       "    </tr>\n",
       "    <tr>\n",
       "      <th>22</th>\n",
       "      <td>1</td>\n",
       "      <td>2</td>\n",
       "      <td>1</td>\n",
       "      <td>0</td>\n",
       "    </tr>\n",
       "    <tr>\n",
       "      <th>23</th>\n",
       "      <td>1</td>\n",
       "      <td>2</td>\n",
       "      <td>0</td>\n",
       "      <td>1</td>\n",
       "    </tr>\n",
       "    <tr>\n",
       "      <th>24</th>\n",
       "      <td>2</td>\n",
       "      <td>1</td>\n",
       "      <td>1</td>\n",
       "      <td>0</td>\n",
       "    </tr>\n",
       "    <tr>\n",
       "      <th>25</th>\n",
       "      <td>1</td>\n",
       "      <td>2</td>\n",
       "      <td>1</td>\n",
       "      <td>0</td>\n",
       "    </tr>\n",
       "    <tr>\n",
       "      <th>26</th>\n",
       "      <td>1</td>\n",
       "      <td>1</td>\n",
       "      <td>2</td>\n",
       "      <td>0</td>\n",
       "    </tr>\n",
       "    <tr>\n",
       "      <th>27</th>\n",
       "      <td>1</td>\n",
       "      <td>1</td>\n",
       "      <td>1</td>\n",
       "      <td>1</td>\n",
       "    </tr>\n",
       "    <tr>\n",
       "      <th>28</th>\n",
       "      <td>2</td>\n",
       "      <td>1</td>\n",
       "      <td>0</td>\n",
       "      <td>1</td>\n",
       "    </tr>\n",
       "    <tr>\n",
       "      <th>29</th>\n",
       "      <td>1</td>\n",
       "      <td>2</td>\n",
       "      <td>0</td>\n",
       "      <td>1</td>\n",
       "    </tr>\n",
       "  </tbody>\n",
       "</table>\n",
       "</div>"
      ],
      "text/plain": [
       "    noitem  blue  red  white\n",
       "20       2     2    0      0\n",
       "21       1     3    0      0\n",
       "22       1     2    1      0\n",
       "23       1     2    0      1\n",
       "24       2     1    1      0\n",
       "25       1     2    1      0\n",
       "26       1     1    2      0\n",
       "27       1     1    1      1\n",
       "28       2     1    0      1\n",
       "29       1     2    0      1"
      ]
     },
     "execution_count": 416,
     "metadata": {},
     "output_type": "execute_result"
    }
   ],
   "source": [
    "warehouse_states = generate_warehosue_states(grid_states, item_states_ID)\n",
    "warehouse_states[20:30]"
   ]
  },
  {
   "cell_type": "markdown",
   "metadata": {},
   "source": [
    "### Transition Probability Matrix (action,  state, next state)\n"
   ]
  },
  {
   "cell_type": "code",
   "execution_count": 381,
   "metadata": {},
   "outputs": [],
   "source": [
    "def create_TPM(data, grids):\n",
    "    # Initialize TMP with shape (action, posible states, posible states)\n",
    "    P = np.zeros(( actions_moves, total_states, total_states),dtype=np.float16)\n",
    "    # Compute  Each action probability as the count of each action on the data\n",
    "    move_action_probability = np.array([a*c for a in data[\"action\"].value_counts() / len(data) for c in data[\"color_state\"].value_counts() / len(data) ])\n",
    "\n",
    "    for action in range(actions_moves):\n",
    "        idx = 0\n",
    "        for mov in range(moves):\n",
    "            for s in grids:\n",
    "                for m in range(moves):\n",
    "                    if m >= (moves//2): # restore actions\n",
    "                        i = ((idx % items_grid) - (items**(actions_moves - action - 1) * (mov+1))) + (items_grid * m)\n",
    "                    else:\n",
    "                        i = ((idx % items_grid) - (items**(actions_moves - action - 1) * (mov+1))) + (items_grid * m)\n",
    "                    P[action][idx][i] = move_action_probability[m]\n",
    "                idx += 1  \n",
    "    return P\n",
    "\n",
    "TMP = create_TPM(data, grids)\n"
   ]
  },
  {
   "cell_type": "code",
   "execution_count": 382,
   "metadata": {},
   "outputs": [],
   "source": [
    "def create_rewards(moves, total_states, grid_states):\n",
    "    distances = [sum(np.array(c) - np.array(grids_cells[0])) for c in grids_cells]\n",
    "    rewards = dict(keys=grids_cells, values =distances )\n",
    "    \n",
    "    R = np.zeros((actions_moves, total_states, ))\n",
    "\n",
    "    for action in range(actions_moves):\n",
    "        for idx, s in grid_states.iterrows():\n",
    "            next_state = idx//(len(grid_states)//moves)\n",
    "            try:\n",
    "                if(next_state < (moves//len(actions)) and s[action] == 0):\n",
    "                    reward = rewards[str(s)]\n",
    "                elif (next_state > (moves//len(actions) ) and (s[action] == (next_state - len(actions)))):\n",
    "                    reward = 10000*rewards[str(s)]  #+=100\n",
    "                # Invalid movements\n",
    "                else:\n",
    "                    reward = -10000 \n",
    "                R[action][idx] = reward\n",
    "            except:\n",
    "                pass\n",
    "\n",
    "    return  np.asarray(R).T"
   ]
  },
  {
   "cell_type": "code",
   "execution_count": 383,
   "metadata": {},
   "outputs": [
    {
     "name": "stdout",
     "output_type": "stream",
     "text": [
      "1536\n"
     ]
    }
   ],
   "source": [
    "R = create_rewards(moves, total_states, grid_states)"
   ]
  },
  {
   "cell_type": "code",
   "execution_count": null,
   "outputs": [],
   "source": [
    "assert TMP.shape[:-1] == R.shape[::-1], \"The actions and states should match\""
   ],
   "metadata": {
    "collapsed": false,
    "pycharm": {
     "name": "#%%\n"
    }
   }
  },
  {
   "cell_type": "code",
   "execution_count": 404,
   "metadata": {},
   "outputs": [],
   "source": [
    "discount =  0.9\n",
    "max_iter = 750\n",
    "policy = mdptoolbox.mdp.PolicyIteration(TMP, R, 0.9, max_iter=max_iter)\n",
    "value = mdptoolbox.mdp.ValueIteration(TMP, R, 0.9, max_iter=max_iter)"
   ]
  },
  {
   "cell_type": "code",
   "execution_count": null,
   "metadata": {},
   "outputs": [],
   "source": [
    "value.run()\n",
    "policy.run()"
   ]
  },
  {
   "cell_type": "code",
   "execution_count": 409,
   "metadata": {
    "pycharm": {
     "name": "#%%\n"
    }
   },
   "outputs": [
    {
     "name": "stdout",
     "output_type": "stream",
     "text": [
      "Policy iterations: 6\n",
      "Value  iterations: 35\n"
     ]
    }
   ],
   "source": [
    "p = policy.policy\n",
    "iterations = policy.iter\n",
    "\n",
    "print(\"Policy iterations:\", iterations)\n",
    "\n",
    "print(\"Value  iterations:\", value.iter)"
   ]
  }
 ],
 "metadata": {
  "kernelspec": {
   "display_name": "Python 3",
   "language": "python",
   "name": "python3"
  },
  "language_info": {
   "codemirror_mode": {
    "name": "ipython",
    "version": 3
   },
   "file_extension": ".py",
   "mimetype": "text/x-python",
   "name": "python",
   "nbconvert_exporter": "python",
   "pygments_lexer": "ipython3",
   "version": "3.7.3"
  }
 },
 "nbformat": 4,
 "nbformat_minor": 1
}